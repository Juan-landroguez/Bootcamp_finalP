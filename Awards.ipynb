{
 "cells": [
  {
   "cell_type": "code",
   "execution_count": 1,
   "id": "18fa9ef9",
   "metadata": {},
   "outputs": [],
   "source": [
    "import pandas as pd\n",
    "import numpy as np"
   ]
  },
  {
   "cell_type": "markdown",
   "id": "4675e3ad",
   "metadata": {},
   "source": [
    "#The file I'll work with will complement the all_movies_cleanned, therefore I'll do some adjustments to avoid issues when I'll merge them."
   ]
  },
  {
   "cell_type": "code",
   "execution_count": 2,
   "id": "052735c2",
   "metadata": {},
   "outputs": [
    {
     "data": {
      "text/html": [
       "<div>\n",
       "<style scoped>\n",
       "    .dataframe tbody tr th:only-of-type {\n",
       "        vertical-align: middle;\n",
       "    }\n",
       "\n",
       "    .dataframe tbody tr th {\n",
       "        vertical-align: top;\n",
       "    }\n",
       "\n",
       "    .dataframe thead th {\n",
       "        text-align: right;\n",
       "    }\n",
       "</style>\n",
       "<table border=\"1\" class=\"dataframe\">\n",
       "  <thead>\n",
       "    <tr style=\"text-align: right;\">\n",
       "      <th></th>\n",
       "      <th>year_film</th>\n",
       "      <th>year_ceremony</th>\n",
       "      <th>ceremony</th>\n",
       "      <th>category</th>\n",
       "      <th>name</th>\n",
       "      <th>film</th>\n",
       "      <th>winner</th>\n",
       "    </tr>\n",
       "  </thead>\n",
       "  <tbody>\n",
       "    <tr>\n",
       "      <th>0</th>\n",
       "      <td>1927</td>\n",
       "      <td>1928</td>\n",
       "      <td>1</td>\n",
       "      <td>ACTOR</td>\n",
       "      <td>Richard Barthelmess</td>\n",
       "      <td>The Noose</td>\n",
       "      <td>False</td>\n",
       "    </tr>\n",
       "    <tr>\n",
       "      <th>1</th>\n",
       "      <td>1927</td>\n",
       "      <td>1928</td>\n",
       "      <td>1</td>\n",
       "      <td>ACTOR</td>\n",
       "      <td>Emil Jannings</td>\n",
       "      <td>The Last Command</td>\n",
       "      <td>True</td>\n",
       "    </tr>\n",
       "    <tr>\n",
       "      <th>2</th>\n",
       "      <td>1927</td>\n",
       "      <td>1928</td>\n",
       "      <td>1</td>\n",
       "      <td>ACTRESS</td>\n",
       "      <td>Louise Dresser</td>\n",
       "      <td>A Ship Comes In</td>\n",
       "      <td>False</td>\n",
       "    </tr>\n",
       "    <tr>\n",
       "      <th>3</th>\n",
       "      <td>1927</td>\n",
       "      <td>1928</td>\n",
       "      <td>1</td>\n",
       "      <td>ACTRESS</td>\n",
       "      <td>Janet Gaynor</td>\n",
       "      <td>7th Heaven</td>\n",
       "      <td>True</td>\n",
       "    </tr>\n",
       "    <tr>\n",
       "      <th>4</th>\n",
       "      <td>1927</td>\n",
       "      <td>1928</td>\n",
       "      <td>1</td>\n",
       "      <td>ACTRESS</td>\n",
       "      <td>Gloria Swanson</td>\n",
       "      <td>Sadie Thompson</td>\n",
       "      <td>False</td>\n",
       "    </tr>\n",
       "  </tbody>\n",
       "</table>\n",
       "</div>"
      ],
      "text/plain": [
       "   year_film  year_ceremony  ceremony category                 name  \\\n",
       "0       1927           1928         1    ACTOR  Richard Barthelmess   \n",
       "1       1927           1928         1    ACTOR        Emil Jannings   \n",
       "2       1927           1928         1  ACTRESS       Louise Dresser   \n",
       "3       1927           1928         1  ACTRESS         Janet Gaynor   \n",
       "4       1927           1928         1  ACTRESS       Gloria Swanson   \n",
       "\n",
       "               film  winner  \n",
       "0         The Noose   False  \n",
       "1  The Last Command    True  \n",
       "2   A Ship Comes In   False  \n",
       "3        7th Heaven    True  \n",
       "4    Sadie Thompson   False  "
      ]
     },
     "metadata": {},
     "output_type": "display_data"
    },
    {
     "data": {
      "text/plain": [
       "(10765, 7)"
      ]
     },
     "metadata": {},
     "output_type": "display_data"
    }
   ],
   "source": [
    "a_oscars = pd.read_csv('the_oscar_award.csv')\n",
    "display(a_oscars.head(), a_oscars.shape)"
   ]
  },
  {
   "cell_type": "markdown",
   "id": "6e5f6352",
   "metadata": {},
   "source": [
    "# Initial data exploration:"
   ]
  },
  {
   "cell_type": "code",
   "execution_count": 3,
   "id": "266b17ff",
   "metadata": {},
   "outputs": [
    {
     "data": {
      "text/html": [
       "<div>\n",
       "<style scoped>\n",
       "    .dataframe tbody tr th:only-of-type {\n",
       "        vertical-align: middle;\n",
       "    }\n",
       "\n",
       "    .dataframe tbody tr th {\n",
       "        vertical-align: top;\n",
       "    }\n",
       "\n",
       "    .dataframe thead th {\n",
       "        text-align: right;\n",
       "    }\n",
       "</style>\n",
       "<table border=\"1\" class=\"dataframe\">\n",
       "  <thead>\n",
       "    <tr style=\"text-align: right;\">\n",
       "      <th></th>\n",
       "      <th>year_film</th>\n",
       "      <th>year_ceremony</th>\n",
       "      <th>ceremony</th>\n",
       "      <th>category</th>\n",
       "      <th>name</th>\n",
       "      <th>film</th>\n",
       "      <th>winner</th>\n",
       "    </tr>\n",
       "  </thead>\n",
       "  <tbody>\n",
       "    <tr>\n",
       "      <th>0</th>\n",
       "      <td>1927</td>\n",
       "      <td>1928</td>\n",
       "      <td>1</td>\n",
       "      <td>ACTOR</td>\n",
       "      <td>Richard Barthelmess</td>\n",
       "      <td>The Noose</td>\n",
       "      <td>False</td>\n",
       "    </tr>\n",
       "    <tr>\n",
       "      <th>1</th>\n",
       "      <td>1927</td>\n",
       "      <td>1928</td>\n",
       "      <td>1</td>\n",
       "      <td>ACTOR</td>\n",
       "      <td>Emil Jannings</td>\n",
       "      <td>The Last Command</td>\n",
       "      <td>True</td>\n",
       "    </tr>\n",
       "    <tr>\n",
       "      <th>2</th>\n",
       "      <td>1927</td>\n",
       "      <td>1928</td>\n",
       "      <td>1</td>\n",
       "      <td>ACTRESS</td>\n",
       "      <td>Louise Dresser</td>\n",
       "      <td>A Ship Comes In</td>\n",
       "      <td>False</td>\n",
       "    </tr>\n",
       "    <tr>\n",
       "      <th>3</th>\n",
       "      <td>1927</td>\n",
       "      <td>1928</td>\n",
       "      <td>1</td>\n",
       "      <td>ACTRESS</td>\n",
       "      <td>Janet Gaynor</td>\n",
       "      <td>7th Heaven</td>\n",
       "      <td>True</td>\n",
       "    </tr>\n",
       "    <tr>\n",
       "      <th>4</th>\n",
       "      <td>1927</td>\n",
       "      <td>1928</td>\n",
       "      <td>1</td>\n",
       "      <td>ACTRESS</td>\n",
       "      <td>Gloria Swanson</td>\n",
       "      <td>Sadie Thompson</td>\n",
       "      <td>False</td>\n",
       "    </tr>\n",
       "  </tbody>\n",
       "</table>\n",
       "</div>"
      ],
      "text/plain": [
       "   year_film  year_ceremony  ceremony category                 name  \\\n",
       "0       1927           1928         1    ACTOR  Richard Barthelmess   \n",
       "1       1927           1928         1    ACTOR        Emil Jannings   \n",
       "2       1927           1928         1  ACTRESS       Louise Dresser   \n",
       "3       1927           1928         1  ACTRESS         Janet Gaynor   \n",
       "4       1927           1928         1  ACTRESS       Gloria Swanson   \n",
       "\n",
       "               film  winner  \n",
       "0         The Noose   False  \n",
       "1  The Last Command    True  \n",
       "2   A Ship Comes In   False  \n",
       "3        7th Heaven    True  \n",
       "4    Sadie Thompson   False  "
      ]
     },
     "execution_count": 3,
     "metadata": {},
     "output_type": "execute_result"
    }
   ],
   "source": [
    "# Check the first few rows of the dataset\n",
    "a_oscars.head()"
   ]
  },
  {
   "cell_type": "code",
   "execution_count": 4,
   "id": "45c9b271",
   "metadata": {},
   "outputs": [
    {
     "data": {
      "text/plain": [
       "(10765, 7)"
      ]
     },
     "execution_count": 4,
     "metadata": {},
     "output_type": "execute_result"
    }
   ],
   "source": [
    "# Check the number of rows and columns\n",
    "a_oscars.shape\n"
   ]
  },
  {
   "cell_type": "code",
   "execution_count": 5,
   "id": "cafbaaf8",
   "metadata": {},
   "outputs": [
    {
     "data": {
      "text/plain": [
       "year_film         int64\n",
       "year_ceremony     int64\n",
       "ceremony          int64\n",
       "category         object\n",
       "name             object\n",
       "film             object\n",
       "winner             bool\n",
       "dtype: object"
      ]
     },
     "execution_count": 5,
     "metadata": {},
     "output_type": "execute_result"
    }
   ],
   "source": [
    "# Check the data types of each column\n",
    "a_oscars.dtypes"
   ]
  },
  {
   "cell_type": "code",
   "execution_count": 6,
   "id": "ad0b6ea3",
   "metadata": {},
   "outputs": [
    {
     "data": {
      "text/plain": [
       "year_film          0\n",
       "year_ceremony      0\n",
       "ceremony           0\n",
       "category           0\n",
       "name               4\n",
       "film             315\n",
       "winner             0\n",
       "dtype: int64"
      ]
     },
     "execution_count": 6,
     "metadata": {},
     "output_type": "execute_result"
    }
   ],
   "source": [
    "# Check for missing values in each column\n",
    "a_oscars.isnull().sum()\n"
   ]
  },
  {
   "cell_type": "code",
   "execution_count": 7,
   "id": "578eb233",
   "metadata": {},
   "outputs": [
    {
     "data": {
      "text/plain": [
       "year_film          95\n",
       "year_ceremony      95\n",
       "ceremony           95\n",
       "category          115\n",
       "name             6952\n",
       "film             4991\n",
       "winner              2\n",
       "dtype: int64"
      ]
     },
     "execution_count": 7,
     "metadata": {},
     "output_type": "execute_result"
    }
   ],
   "source": [
    "# Check the number of unique values in each column\n",
    "a_oscars.nunique()\n"
   ]
  },
  {
   "cell_type": "code",
   "execution_count": 8,
   "id": "208c5aae",
   "metadata": {},
   "outputs": [
    {
     "name": "stdout",
     "output_type": "stream",
     "text": [
      "year_film: 10670\n",
      "year_ceremony: 10670\n",
      "ceremony: 10670\n",
      "category: 10650\n",
      "name: 3812\n",
      "film: 5773\n",
      "winner: 10763\n"
     ]
    }
   ],
   "source": [
    "# Check for duplicates in each column\n",
    "for col in a_oscars.columns:\n",
    "    print(f\"{col}: {a_oscars.duplicated(col).sum()}\")\n"
   ]
  },
  {
   "cell_type": "markdown",
   "id": "88e09084",
   "metadata": {},
   "source": [
    "# After the first exploration I'm going to start cleanning"
   ]
  },
  {
   "cell_type": "code",
   "execution_count": 9,
   "id": "1e04e5d6",
   "metadata": {},
   "outputs": [
    {
     "data": {
      "text/plain": [
       "Index(['year_film', 'year_ceremony', 'ceremony', 'category', 'name', 'film',\n",
       "       'winner'],\n",
       "      dtype='object')"
      ]
     },
     "execution_count": 9,
     "metadata": {},
     "output_type": "execute_result"
    }
   ],
   "source": [
    "a_oscars.columns"
   ]
  },
  {
   "cell_type": "code",
   "execution_count": 10,
   "id": "066e11bb",
   "metadata": {},
   "outputs": [],
   "source": [
    "# Use the rename method to change the column name to be the same of the all_films dataframe\n",
    "a_oscars.rename(columns={'film': 'movie_name'}, inplace=True)\n"
   ]
  },
  {
   "cell_type": "code",
   "execution_count": 11,
   "id": "d142641e",
   "metadata": {},
   "outputs": [],
   "source": [
    "#In order to improve the dataset I'll use for the proect, I'm going to clean and append all awards categories together, dividing in nominate and won.\n",
    "#Also it's important to eliminate duplicate movies\n",
    "\n",
    "# Fill missing values in 'category' column with an empty string\n",
    "a_oscars['category'].fillna('', inplace=True)\n",
    "\n",
    "# Group by 'movie_name' and aggregate the 'category' values for rows with 'winner' as False, and concatenate them\n",
    "# with comma separator to create 'osc_nominated_awards'\n",
    "a_oscars['osc_nominated_awards'] = a_oscars[a_oscars['winner'] == False].groupby('movie_name')['category'].apply(', '.join)\n",
    "\n",
    "# Convert 'osc_nominated_awards' values to strings\n",
    "a_oscars['osc_nominated_awards'] = a_oscars['osc_nominated_awards'].astype(str)\n",
    "\n",
    "# Group by 'movie_name' and aggregate the 'category' values for rows with 'winner' as True, and concatenate them\n",
    "looser = a_oscars[a_oscars['winner'] == False].groupby('movie_name')['category'].apply(lambda x: ', '.join(x)).reset_index()\n",
    "\n",
    "# Merge the winners dataframe with the original dataframe\n",
    "a_oscars = pd.merge(a_oscars, looser, on='movie_name', how='left')\n",
    "\n",
    "# Rename the concatenated category column\n",
    "a_oscars.rename(columns={'category_x': 'category', 'category_y': 'osc_nominated_categories'}, inplace=True)\n",
    "\n",
    "# Group by 'movie_name' and aggregate the 'category' values for rows with 'winner' as True, and concatenate them\n",
    "# with comma separator to create 'osc_won_awards'\n",
    "a_oscars['osc_won_awards'] = a_oscars[a_oscars['winner'] == True].groupby('movie_name')['category'].apply(', '.join)\n",
    "\n",
    "# Convert 'osc_won_awards' values to strings\n",
    "a_oscars['osc_won_awards'] = a_oscars['osc_won_awards'].astype(str)\n",
    "\n",
    "\n",
    "# Group by 'movie_name' and aggregate the 'category' values for rows with 'winner' as True, and concatenate them\n",
    "winner = a_oscars[a_oscars['winner'] == True].groupby('movie_name')['category'].apply(lambda x: ', '.join(x)).reset_index()\n",
    "\n",
    "# Merge the winners dataframe with the original dataframe\n",
    "a_oscars = pd.merge(a_oscars, winner, on='movie_name', how='left')\n",
    "\n",
    "# Rename the concatenated category column\n",
    "a_oscars.rename(columns={'category_x': 'category', 'category_y': 'osc_won_categories'}, inplace=True)\n",
    "\n",
    "# Drop unnecessary columns\n",
    "a_oscars.drop(['osc_won_awards','osc_nominated_awards','category','winner' ], axis=1, inplace=True)\n",
    "\n",
    "# Drop the duplicate rows based on 'movie_name' and keep the last occurrence (which has 'winner' as True)\n",
    "a_oscars = a_oscars.drop_duplicates(subset='movie_name', keep='last')\n",
    "\n"
   ]
  },
  {
   "cell_type": "code",
   "execution_count": 12,
   "id": "3c7950f1",
   "metadata": {},
   "outputs": [
    {
     "data": {
      "text/plain": [
       "(4992, 7)"
      ]
     },
     "execution_count": 12,
     "metadata": {},
     "output_type": "execute_result"
    }
   ],
   "source": [
    "#verifiying new shape\n",
    "a_oscars.shape"
   ]
  },
  {
   "cell_type": "code",
   "execution_count": 13,
   "id": "0dbdd485",
   "metadata": {},
   "outputs": [],
   "source": [
    "# I want to add the number of nominations or awards\n",
    "\n",
    "# define a function to count number of categories through commas\n",
    "def count_commas(s):\n",
    "    if pd.notna(s):\n",
    "        return len(s.split(','))\n",
    "    else:\n",
    "        return 0\n",
    "\n",
    "# Apply the function to the columns 'osc_nominated_categories' and 'osc_won_categories'\n",
    "a_oscars['osc_nominated_num'] = a_oscars['osc_nominated_categories'].apply(count_commas)\n",
    "a_oscars['osc_won_num'] = a_oscars['osc_won_categories'].apply(count_commas)\n"
   ]
  },
  {
   "cell_type": "code",
   "execution_count": 14,
   "id": "adea47d3",
   "metadata": {},
   "outputs": [],
   "source": [
    "#As there aren't adding valuable information I'll drop few columns\n",
    "a_oscars.drop(['year_ceremony','ceremony','year_film' ], axis=1, inplace=True)\n"
   ]
  },
  {
   "cell_type": "code",
   "execution_count": 15,
   "id": "196ebe64",
   "metadata": {},
   "outputs": [],
   "source": [
    "#In order to be self explainatory I rename name\n",
    "\n",
    "a_oscars.rename(columns={'name': 'person_awarded'}, inplace=True)\n"
   ]
  },
  {
   "cell_type": "code",
   "execution_count": 16,
   "id": "b2ff8a19",
   "metadata": {
    "scrolled": true
   },
   "outputs": [
    {
     "data": {
      "text/plain": [
       "Index(['person_awarded', 'movie_name', 'osc_nominated_categories',\n",
       "       'osc_won_categories', 'osc_nominated_num', 'osc_won_num'],\n",
       "      dtype='object')"
      ]
     },
     "execution_count": 16,
     "metadata": {},
     "output_type": "execute_result"
    }
   ],
   "source": [
    "a_oscars.columns"
   ]
  },
  {
   "cell_type": "code",
   "execution_count": 17,
   "id": "f435acff",
   "metadata": {},
   "outputs": [],
   "source": [
    "a_oscars.to_csv('a_oscars_cleaned.csv', index=False)\n"
   ]
  },
  {
   "cell_type": "code",
   "execution_count": 18,
   "id": "411a86ce",
   "metadata": {},
   "outputs": [
    {
     "name": "stderr",
     "output_type": "stream",
     "text": [
      "/var/folders/0r/l856hq9x61zf5p8g8vxjs_dh0000gn/T/ipykernel_7739/3506580926.py:1: DtypeWarning: Columns (8,10,11,12,13) have mixed types. Specify dtype option on import or set low_memory=False.\n",
      "  all_films = pd.read_csv('all_films_cleaned.csv')\n"
     ]
    }
   ],
   "source": [
    "all_films = pd.read_csv('all_films_cleaned.csv')\n"
   ]
  },
  {
   "cell_type": "code",
   "execution_count": 19,
   "id": "bf1c8619",
   "metadata": {},
   "outputs": [
    {
     "ename": "KeyError",
     "evalue": "\"['year_ceremony', 'ceremony', 'category', 'name', 'winner'] not in index\"",
     "output_type": "error",
     "traceback": [
      "\u001b[0;31m---------------------------------------------------------------------------\u001b[0m",
      "\u001b[0;31mKeyError\u001b[0m                                  Traceback (most recent call last)",
      "\u001b[0;32m/var/folders/0r/l856hq9x61zf5p8g8vxjs_dh0000gn/T/ipykernel_7739/95649491.py\u001b[0m in \u001b[0;36m<module>\u001b[0;34m\u001b[0m\n\u001b[1;32m      1\u001b[0m \u001b[0;31m# First, merge the two DataFrames on the 'movie_name' column\u001b[0m\u001b[0;34m\u001b[0m\u001b[0;34m\u001b[0m\u001b[0m\n\u001b[0;32m----> 2\u001b[0;31m merged_df = all_films.merge(a_oscars[['movie_name', 'year_ceremony', 'ceremony', 'category', 'name', 'winner']],\n\u001b[0m\u001b[1;32m      3\u001b[0m                             on='movie_name', how='left')\n\u001b[1;32m      4\u001b[0m \u001b[0;34m\u001b[0m\u001b[0m\n\u001b[1;32m      5\u001b[0m \u001b[0;31m# 'how='inner'' ensures that only the rows with matching 'movie_name' values in both DataFrames are included\u001b[0m\u001b[0;34m\u001b[0m\u001b[0;34m\u001b[0m\u001b[0m\n",
      "\u001b[0;32m~/opt/anaconda3/lib/python3.9/site-packages/pandas/core/frame.py\u001b[0m in \u001b[0;36m__getitem__\u001b[0;34m(self, key)\u001b[0m\n\u001b[1;32m   3509\u001b[0m             \u001b[0;32mif\u001b[0m \u001b[0mis_iterator\u001b[0m\u001b[0;34m(\u001b[0m\u001b[0mkey\u001b[0m\u001b[0;34m)\u001b[0m\u001b[0;34m:\u001b[0m\u001b[0;34m\u001b[0m\u001b[0;34m\u001b[0m\u001b[0m\n\u001b[1;32m   3510\u001b[0m                 \u001b[0mkey\u001b[0m \u001b[0;34m=\u001b[0m \u001b[0mlist\u001b[0m\u001b[0;34m(\u001b[0m\u001b[0mkey\u001b[0m\u001b[0;34m)\u001b[0m\u001b[0;34m\u001b[0m\u001b[0;34m\u001b[0m\u001b[0m\n\u001b[0;32m-> 3511\u001b[0;31m             \u001b[0mindexer\u001b[0m \u001b[0;34m=\u001b[0m \u001b[0mself\u001b[0m\u001b[0;34m.\u001b[0m\u001b[0mcolumns\u001b[0m\u001b[0;34m.\u001b[0m\u001b[0m_get_indexer_strict\u001b[0m\u001b[0;34m(\u001b[0m\u001b[0mkey\u001b[0m\u001b[0;34m,\u001b[0m \u001b[0;34m\"columns\"\u001b[0m\u001b[0;34m)\u001b[0m\u001b[0;34m[\u001b[0m\u001b[0;36m1\u001b[0m\u001b[0;34m]\u001b[0m\u001b[0;34m\u001b[0m\u001b[0;34m\u001b[0m\u001b[0m\n\u001b[0m\u001b[1;32m   3512\u001b[0m \u001b[0;34m\u001b[0m\u001b[0m\n\u001b[1;32m   3513\u001b[0m         \u001b[0;31m# take() does not accept boolean indexers\u001b[0m\u001b[0;34m\u001b[0m\u001b[0;34m\u001b[0m\u001b[0m\n",
      "\u001b[0;32m~/opt/anaconda3/lib/python3.9/site-packages/pandas/core/indexes/base.py\u001b[0m in \u001b[0;36m_get_indexer_strict\u001b[0;34m(self, key, axis_name)\u001b[0m\n\u001b[1;32m   5794\u001b[0m             \u001b[0mkeyarr\u001b[0m\u001b[0;34m,\u001b[0m \u001b[0mindexer\u001b[0m\u001b[0;34m,\u001b[0m \u001b[0mnew_indexer\u001b[0m \u001b[0;34m=\u001b[0m \u001b[0mself\u001b[0m\u001b[0;34m.\u001b[0m\u001b[0m_reindex_non_unique\u001b[0m\u001b[0;34m(\u001b[0m\u001b[0mkeyarr\u001b[0m\u001b[0;34m)\u001b[0m\u001b[0;34m\u001b[0m\u001b[0;34m\u001b[0m\u001b[0m\n\u001b[1;32m   5795\u001b[0m \u001b[0;34m\u001b[0m\u001b[0m\n\u001b[0;32m-> 5796\u001b[0;31m         \u001b[0mself\u001b[0m\u001b[0;34m.\u001b[0m\u001b[0m_raise_if_missing\u001b[0m\u001b[0;34m(\u001b[0m\u001b[0mkeyarr\u001b[0m\u001b[0;34m,\u001b[0m \u001b[0mindexer\u001b[0m\u001b[0;34m,\u001b[0m \u001b[0maxis_name\u001b[0m\u001b[0;34m)\u001b[0m\u001b[0;34m\u001b[0m\u001b[0;34m\u001b[0m\u001b[0m\n\u001b[0m\u001b[1;32m   5797\u001b[0m \u001b[0;34m\u001b[0m\u001b[0m\n\u001b[1;32m   5798\u001b[0m         \u001b[0mkeyarr\u001b[0m \u001b[0;34m=\u001b[0m \u001b[0mself\u001b[0m\u001b[0;34m.\u001b[0m\u001b[0mtake\u001b[0m\u001b[0;34m(\u001b[0m\u001b[0mindexer\u001b[0m\u001b[0;34m)\u001b[0m\u001b[0;34m\u001b[0m\u001b[0;34m\u001b[0m\u001b[0m\n",
      "\u001b[0;32m~/opt/anaconda3/lib/python3.9/site-packages/pandas/core/indexes/base.py\u001b[0m in \u001b[0;36m_raise_if_missing\u001b[0;34m(self, key, indexer, axis_name)\u001b[0m\n\u001b[1;32m   5857\u001b[0m \u001b[0;34m\u001b[0m\u001b[0m\n\u001b[1;32m   5858\u001b[0m             \u001b[0mnot_found\u001b[0m \u001b[0;34m=\u001b[0m \u001b[0mlist\u001b[0m\u001b[0;34m(\u001b[0m\u001b[0mensure_index\u001b[0m\u001b[0;34m(\u001b[0m\u001b[0mkey\u001b[0m\u001b[0;34m)\u001b[0m\u001b[0;34m[\u001b[0m\u001b[0mmissing_mask\u001b[0m\u001b[0;34m.\u001b[0m\u001b[0mnonzero\u001b[0m\u001b[0;34m(\u001b[0m\u001b[0;34m)\u001b[0m\u001b[0;34m[\u001b[0m\u001b[0;36m0\u001b[0m\u001b[0;34m]\u001b[0m\u001b[0;34m]\u001b[0m\u001b[0;34m.\u001b[0m\u001b[0munique\u001b[0m\u001b[0;34m(\u001b[0m\u001b[0;34m)\u001b[0m\u001b[0;34m)\u001b[0m\u001b[0;34m\u001b[0m\u001b[0;34m\u001b[0m\u001b[0m\n\u001b[0;32m-> 5859\u001b[0;31m             \u001b[0;32mraise\u001b[0m \u001b[0mKeyError\u001b[0m\u001b[0;34m(\u001b[0m\u001b[0;34mf\"{not_found} not in index\"\u001b[0m\u001b[0;34m)\u001b[0m\u001b[0;34m\u001b[0m\u001b[0;34m\u001b[0m\u001b[0m\n\u001b[0m\u001b[1;32m   5860\u001b[0m \u001b[0;34m\u001b[0m\u001b[0m\n\u001b[1;32m   5861\u001b[0m     \u001b[0;34m@\u001b[0m\u001b[0moverload\u001b[0m\u001b[0;34m\u001b[0m\u001b[0;34m\u001b[0m\u001b[0m\n",
      "\u001b[0;31mKeyError\u001b[0m: \"['year_ceremony', 'ceremony', 'category', 'name', 'winner'] not in index\""
     ]
    }
   ],
   "source": [
    "# # First, merge the two DataFrames on the 'movie_name' column\n",
    "# merged_df = all_films.merge(a_oscars[['movie_name', 'year_ceremony', 'ceremony', 'category', 'name', 'winner']],\n",
    "#                             on='movie_name', how='left')\n",
    "\n",
    "# # 'how='inner'' ensures that only the rows with matching 'movie_name' values in both DataFrames are included\n",
    "\n",
    "# # You can also use 'how='left'' or 'how='right'' if you want to include all rows from 'all_films' or 'a_oscars' respectively,\n",
    "# # even if there is no match in the other DataFrame\n",
    "\n",
    "# # Now, merged_df contains all the columns from all_films, as well as the selected columns from a_oscars,\n",
    "# # only for the rows where 'movie_name' is the same in both DataFrames\n",
    "\n",
    "# # You can rename merged_df to 'all_films_a' if needed:\n",
    "# all_films_a = merged_df.copy()\n"
   ]
  },
  {
   "cell_type": "code",
   "execution_count": null,
   "id": "ad7844e0",
   "metadata": {},
   "outputs": [],
   "source": [
    "# all_films_a"
   ]
  },
  {
   "cell_type": "code",
   "execution_count": null,
   "id": "f8fe395e",
   "metadata": {},
   "outputs": [],
   "source": [
    "all_films_a.shape"
   ]
  },
  {
   "cell_type": "code",
   "execution_count": null,
   "id": "6b1d8d28",
   "metadata": {},
   "outputs": [],
   "source": [
    "# Check for duplicates in each column\n",
    "for col in all_films.columns:\n",
    "    print(f\"{col}: {all_films.duplicated(col).sum()}\")\n"
   ]
  },
  {
   "cell_type": "code",
   "execution_count": null,
   "id": "f63117a7",
   "metadata": {},
   "outputs": [],
   "source": []
  }
 ],
 "metadata": {
  "kernelspec": {
   "display_name": "Python 3 (ipykernel)",
   "language": "python",
   "name": "python3"
  },
  "language_info": {
   "codemirror_mode": {
    "name": "ipython",
    "version": 3
   },
   "file_extension": ".py",
   "mimetype": "text/x-python",
   "name": "python",
   "nbconvert_exporter": "python",
   "pygments_lexer": "ipython3",
   "version": "3.9.13"
  }
 },
 "nbformat": 4,
 "nbformat_minor": 5
}
